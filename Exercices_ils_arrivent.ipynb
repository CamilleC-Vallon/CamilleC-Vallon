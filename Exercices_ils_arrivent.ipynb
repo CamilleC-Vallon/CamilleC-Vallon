{
  "nbformat": 4,
  "nbformat_minor": 0,
  "metadata": {
    "colab": {
      "provenance": [],
      "authorship_tag": "ABX9TyOTVfKyG1t4ugphIdm5rMZv",
      "include_colab_link": true
    },
    "kernelspec": {
      "name": "python3",
      "display_name": "Python 3"
    },
    "language_info": {
      "name": "python"
    }
  },
  "cells": [
    {
      "cell_type": "markdown",
      "metadata": {
        "id": "view-in-github",
        "colab_type": "text"
      },
      "source": [
        "<a href=\"https://colab.research.google.com/github/CamilleC-Vallon/CamilleC-Vallon/blob/main/Exercices_ils_arrivent.ipynb\" target=\"_parent\"><img src=\"https://colab.research.google.com/assets/colab-badge.svg\" alt=\"Open In Colab\"/></a>"
      ]
    },
    {
      "cell_type": "code",
      "execution_count": 2,
      "metadata": {
        "colab": {
          "base_uri": "https://localhost:8080/"
        },
        "id": "YJAB38feZQpa",
        "outputId": "b16c9d67-4092-4505-d540-710f2e4e1832"
      },
      "outputs": [
        {
          "output_type": "stream",
          "name": "stdout",
          "text": [
            "Vite! Des aliens envahissent la planète.\n",
            "Tu dois vite activer la plateforme de défense mondiale.\n",
            "J'espère que tu connais le mot de passe...\n",
            "\n",
            "_________________________\n",
            "   BIENVENUE DANS LE RÉSEAU DE DÉFENSE MONDIALE     \n",
            "_________________________\n",
            "\n",
            "Entre le mot de passe : mkl^l\n",
            "\n",
            "MOT DE PASSE INCORRECT.\n",
            "\n",
            "Il y a 4 aliens sur Terre. Réessaie !\n",
            "\n",
            "MOT DE PASSE INCORRECT.\n",
            "\n",
            "Il y a 16 aliens sur Terre. Réessaie !\n",
            "\n",
            "MOT DE PASSE INCORRECT.\n",
            "\n",
            "Il y a 256 aliens sur Terre. Réessaie !\n",
            "\n",
            "MOT DE PASSE INCORRECT.\n",
            "\n",
            "Il y a 65536 aliens sur Terre. Réessaie !\n",
            "\n",
            "MOT DE PASSE INCORRECT.\n",
            "\n",
            "Il y a 4294967296 aliens sur Terre. Réessaie !\n",
            "\n",
            "MOT DE PASSE INCORRECT.\n",
            "\n",
            "Il y a 18446744073709551616 aliens sur Terre. Réessaie !\n"
          ]
        }
      ],
      "source": [
        "aliens = 2\n",
        "motDePasse = \"ALIENS\"\n",
        "print(\"Vite! Des aliens envahissent la planète.\")\n",
        "print(\"Tu dois vite activer la plateforme de défense mondiale.\")\n",
        "print(\"J'espère que tu connais le mot de passe...\")\n",
        "print()\n",
        "print(\"_________________________\")\n",
        "print(\"   BIENVENUE DANS LE RÉSEAU DE DÉFENSE MONDIALE     \")\n",
        "print(\"_________________________\")\n",
        "print()\n",
        "deviner = input(\"Entre le mot de passe : \").upper()\n",
        "while deviner != motDePasse:\n",
        "  print()\n",
        "  print(\"MOT DE PASSE INCORRECT.\")\n",
        "  print()\n",
        "  aliens = aliens **2\n",
        "  print(\"Il y a\", aliens, \"aliens sur Terre. Réessaie !\")\n",
        "  if aliens > 7400000000:\n",
        "    break\n",
        "    print()\n",
        "    print(\"Indice mot de passe : les créatures qui nous attaquent.\")\n",
        "    print()\n",
        "    deviner = input(\"Vite ! Entre le mot de passe :\").upper\n",
        "    if aliens > 7400000000:\n",
        "      print(\"Noon ! Les aliens sont plus nombreux que nous. Tout est perdu.\")\n",
        "    else:\n",
        "        print(\"Hourra ! Nous avons gagnés le combat, le monde est sauvé!\")"
      ]
    }
  ]
}